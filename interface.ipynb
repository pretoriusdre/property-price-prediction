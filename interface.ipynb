{
 "cells": [
  {
   "cell_type": "markdown",
   "metadata": {},
   "source": [
    "## Property price prediction using linear regression\n"
   ]
  },
  {
   "cell_type": "code",
   "execution_count": 1,
   "metadata": {},
   "outputs": [],
   "source": [
    "from property_price_prediction.predictor import PropertyPricePredictor"
   ]
  },
  {
   "cell_type": "markdown",
   "metadata": {},
   "source": [
    "### Estimate price using linear regression"
   ]
  },
  {
   "cell_type": "code",
   "execution_count": 2,
   "metadata": {},
   "outputs": [
    {
     "name": "stderr",
     "output_type": "stream",
     "text": [
      "2025-04-27 11:04:21,700 - INFO - Starting on suburb1\n",
      "2025-04-27 11:04:21,707 - INFO - Number of datapoints used for training: 95\n",
      "2025-04-27 11:04:21,707 - INFO - R² score: 0.7304\n",
      "2025-04-27 11:04:21,708 - INFO - RMS error: $84,817\n"
     ]
    },
    {
     "name": "stdout",
     "output_type": "stream",
     "text": [
      "------------\n"
     ]
    }
   ],
   "source": [
    "predictor = PropertyPricePredictor('data/similar_sales.xlsx')"
   ]
  },
  {
   "cell_type": "code",
   "execution_count": 3,
   "metadata": {},
   "outputs": [
    {
     "data": {
      "text/html": [
       "<div>\n",
       "<style scoped>\n",
       "    .dataframe tbody tr th:only-of-type {\n",
       "        vertical-align: middle;\n",
       "    }\n",
       "\n",
       "    .dataframe tbody tr th {\n",
       "        vertical-align: top;\n",
       "    }\n",
       "\n",
       "    .dataframe thead th {\n",
       "        text-align: right;\n",
       "    }\n",
       "</style>\n",
       "<table border=\"1\" class=\"dataframe\">\n",
       "  <thead>\n",
       "    <tr style=\"text-align: right;\">\n",
       "      <th></th>\n",
       "      <th>data_model</th>\n",
       "      <th>price</th>\n",
       "      <th>bed</th>\n",
       "      <th>bath</th>\n",
       "      <th>car</th>\n",
       "      <th>land</th>\n",
       "      <th>date</th>\n",
       "      <th>url</th>\n",
       "      <th>desirability</th>\n",
       "      <th>comment</th>\n",
       "      <th>days_since_epoch</th>\n",
       "    </tr>\n",
       "  </thead>\n",
       "  <tbody>\n",
       "    <tr>\n",
       "      <th>0</th>\n",
       "      <td>suburb1</td>\n",
       "      <td>1000000</td>\n",
       "      <td>4</td>\n",
       "      <td>2</td>\n",
       "      <td>8</td>\n",
       "      <td>724</td>\n",
       "      <td>2024-09-20</td>\n",
       "      <td>https://real-estate-website/sold/Property-001</td>\n",
       "      <td>7</td>\n",
       "      <td>Desirability  can be used to subjectively scor...</td>\n",
       "      <td>9029</td>\n",
       "    </tr>\n",
       "    <tr>\n",
       "      <th>1</th>\n",
       "      <td>suburb1</td>\n",
       "      <td>1250000</td>\n",
       "      <td>5</td>\n",
       "      <td>2</td>\n",
       "      <td>2</td>\n",
       "      <td>697</td>\n",
       "      <td>2024-09-19</td>\n",
       "      <td>https://real-estate-website/sold/Property-002</td>\n",
       "      <td>9</td>\n",
       "      <td>Set to a constant if you don't want to perform...</td>\n",
       "      <td>9028</td>\n",
       "    </tr>\n",
       "    <tr>\n",
       "      <th>2</th>\n",
       "      <td>suburb1</td>\n",
       "      <td>1295000</td>\n",
       "      <td>4</td>\n",
       "      <td>2</td>\n",
       "      <td>2</td>\n",
       "      <td>760</td>\n",
       "      <td>2024-09-18</td>\n",
       "      <td>https://real-estate-website/sold/Property-003</td>\n",
       "      <td>9</td>\n",
       "      <td>NaN</td>\n",
       "      <td>9027</td>\n",
       "    </tr>\n",
       "    <tr>\n",
       "      <th>3</th>\n",
       "      <td>suburb1</td>\n",
       "      <td>1150000</td>\n",
       "      <td>4</td>\n",
       "      <td>2</td>\n",
       "      <td>2</td>\n",
       "      <td>680</td>\n",
       "      <td>2024-09-05</td>\n",
       "      <td>https://real-estate-website/sold/Property-004</td>\n",
       "      <td>7</td>\n",
       "      <td>NaN</td>\n",
       "      <td>9014</td>\n",
       "    </tr>\n",
       "    <tr>\n",
       "      <th>4</th>\n",
       "      <td>suburb1</td>\n",
       "      <td>1130000</td>\n",
       "      <td>4</td>\n",
       "      <td>2</td>\n",
       "      <td>2</td>\n",
       "      <td>792</td>\n",
       "      <td>2024-07-24</td>\n",
       "      <td>https://real-estate-website/sold/Property-005</td>\n",
       "      <td>7</td>\n",
       "      <td>NaN</td>\n",
       "      <td>8971</td>\n",
       "    </tr>\n",
       "    <tr>\n",
       "      <th>...</th>\n",
       "      <td>...</td>\n",
       "      <td>...</td>\n",
       "      <td>...</td>\n",
       "      <td>...</td>\n",
       "      <td>...</td>\n",
       "      <td>...</td>\n",
       "      <td>...</td>\n",
       "      <td>...</td>\n",
       "      <td>...</td>\n",
       "      <td>...</td>\n",
       "      <td>...</td>\n",
       "    </tr>\n",
       "    <tr>\n",
       "      <th>90</th>\n",
       "      <td>suburb1</td>\n",
       "      <td>950000</td>\n",
       "      <td>3</td>\n",
       "      <td>2</td>\n",
       "      <td>2</td>\n",
       "      <td>731</td>\n",
       "      <td>2022-11-30</td>\n",
       "      <td>https://real-estate-website/sold/Property-091</td>\n",
       "      <td>7</td>\n",
       "      <td>NaN</td>\n",
       "      <td>8369</td>\n",
       "    </tr>\n",
       "    <tr>\n",
       "      <th>91</th>\n",
       "      <td>suburb1</td>\n",
       "      <td>895000</td>\n",
       "      <td>4</td>\n",
       "      <td>2</td>\n",
       "      <td>3</td>\n",
       "      <td>797</td>\n",
       "      <td>2022-11-29</td>\n",
       "      <td>https://real-estate-website/sold/Property-092</td>\n",
       "      <td>8</td>\n",
       "      <td>NaN</td>\n",
       "      <td>8368</td>\n",
       "    </tr>\n",
       "    <tr>\n",
       "      <th>92</th>\n",
       "      <td>suburb1</td>\n",
       "      <td>1050000</td>\n",
       "      <td>4</td>\n",
       "      <td>2</td>\n",
       "      <td>2</td>\n",
       "      <td>708</td>\n",
       "      <td>2022-11-23</td>\n",
       "      <td>https://real-estate-website/sold/Property-093</td>\n",
       "      <td>8</td>\n",
       "      <td>NaN</td>\n",
       "      <td>8362</td>\n",
       "    </tr>\n",
       "    <tr>\n",
       "      <th>93</th>\n",
       "      <td>suburb1</td>\n",
       "      <td>795000</td>\n",
       "      <td>4</td>\n",
       "      <td>2</td>\n",
       "      <td>3</td>\n",
       "      <td>737</td>\n",
       "      <td>2022-11-23</td>\n",
       "      <td>https://real-estate-website/sold/Property-094</td>\n",
       "      <td>6</td>\n",
       "      <td>NaN</td>\n",
       "      <td>8362</td>\n",
       "    </tr>\n",
       "    <tr>\n",
       "      <th>94</th>\n",
       "      <td>suburb1</td>\n",
       "      <td>770000</td>\n",
       "      <td>4</td>\n",
       "      <td>2</td>\n",
       "      <td>2</td>\n",
       "      <td>766</td>\n",
       "      <td>2022-11-22</td>\n",
       "      <td>https://real-estate-website/sold/Property-095</td>\n",
       "      <td>6</td>\n",
       "      <td>NaN</td>\n",
       "      <td>8361</td>\n",
       "    </tr>\n",
       "  </tbody>\n",
       "</table>\n",
       "<p>95 rows × 11 columns</p>\n",
       "</div>"
      ],
      "text/plain": [
       "   data_model    price  bed  bath  car  land       date  \\\n",
       "0     suburb1  1000000    4     2    8   724 2024-09-20   \n",
       "1     suburb1  1250000    5     2    2   697 2024-09-19   \n",
       "2     suburb1  1295000    4     2    2   760 2024-09-18   \n",
       "3     suburb1  1150000    4     2    2   680 2024-09-05   \n",
       "4     suburb1  1130000    4     2    2   792 2024-07-24   \n",
       "..        ...      ...  ...   ...  ...   ...        ...   \n",
       "90    suburb1   950000    3     2    2   731 2022-11-30   \n",
       "91    suburb1   895000    4     2    3   797 2022-11-29   \n",
       "92    suburb1  1050000    4     2    2   708 2022-11-23   \n",
       "93    suburb1   795000    4     2    3   737 2022-11-23   \n",
       "94    suburb1   770000    4     2    2   766 2022-11-22   \n",
       "\n",
       "                                              url  desirability  \\\n",
       "0   https://real-estate-website/sold/Property-001             7   \n",
       "1   https://real-estate-website/sold/Property-002             9   \n",
       "2   https://real-estate-website/sold/Property-003             9   \n",
       "3   https://real-estate-website/sold/Property-004             7   \n",
       "4   https://real-estate-website/sold/Property-005             7   \n",
       "..                                            ...           ...   \n",
       "90  https://real-estate-website/sold/Property-091             7   \n",
       "91  https://real-estate-website/sold/Property-092             8   \n",
       "92  https://real-estate-website/sold/Property-093             8   \n",
       "93  https://real-estate-website/sold/Property-094             6   \n",
       "94  https://real-estate-website/sold/Property-095             6   \n",
       "\n",
       "                                              comment  days_since_epoch  \n",
       "0   Desirability  can be used to subjectively scor...              9029  \n",
       "1   Set to a constant if you don't want to perform...              9028  \n",
       "2                                                 NaN              9027  \n",
       "3                                                 NaN              9014  \n",
       "4                                                 NaN              8971  \n",
       "..                                                ...               ...  \n",
       "90                                                NaN              8369  \n",
       "91                                                NaN              8368  \n",
       "92                                                NaN              8362  \n",
       "93                                                NaN              8362  \n",
       "94                                                NaN              8361  \n",
       "\n",
       "[95 rows x 11 columns]"
      ]
     },
     "execution_count": 3,
     "metadata": {},
     "output_type": "execute_result"
    }
   ],
   "source": [
    "predictor.df"
   ]
  },
  {
   "cell_type": "code",
   "execution_count": 4,
   "metadata": {},
   "outputs": [
    {
     "name": "stderr",
     "output_type": "stream",
     "text": [
      "2025-04-27 11:04:21,737 - INFO - Predicted price for the house with parameters {'data_model': 'suburb1', 'bed': 3, 'bath': 2, 'car': 2, 'land': 750, 'desirability': 8, 'date': '2025-04-20'}:\n",
      "$1,174,627\n"
     ]
    },
    {
     "data": {
      "text/plain": [
       "1174627"
      ]
     },
     "execution_count": 4,
     "metadata": {},
     "output_type": "execute_result"
    }
   ],
   "source": [
    "predictor.predict(\n",
    "    {\n",
    "        'data_model': 'suburb1',\n",
    "        'bed': 3,\n",
    "        'bath': 2,\n",
    "        'car': 2,\n",
    "        'land': 750,\n",
    "        'desirability': 8,\n",
    "        'date': '2025-04-20'    # Enter as 'YYYY-MM-DD'\n",
    "    }\n",
    ")"
   ]
  },
  {
   "cell_type": "markdown",
   "metadata": {},
   "source": [
    "### Get the model sensitivities"
   ]
  },
  {
   "cell_type": "code",
   "execution_count": 5,
   "metadata": {},
   "outputs": [
    {
     "name": "stderr",
     "output_type": "stream",
     "text": [
      "2025-04-27 11:04:21,745 - INFO - Sensitivities for suburb1:\n",
      "2025-04-27 11:04:21,746 - INFO - Impact of ± 1 bedroom: $34,110\n",
      "2025-04-27 11:04:21,746 - INFO - Impact of ± 1 bathroom: $63,929\n",
      "2025-04-27 11:04:21,747 - INFO - Impact of ± 1 car bay: $-5,355\n",
      "2025-04-27 11:04:21,747 - INFO - Impact of ± 100 sqm land: $56,033\n",
      "2025-04-27 11:04:21,747 - INFO - Impact of ± 1 month: $9,754\n",
      "2025-04-27 11:04:21,748 - INFO - Impact of ± 1 desirability point: $66,572\n"
     ]
    }
   ],
   "source": [
    "predictor.get_sensitivities(model_name='suburb1')"
   ]
  }
 ],
 "metadata": {
  "kernelspec": {
   "display_name": ".venv",
   "language": "python",
   "name": "python3"
  },
  "language_info": {
   "codemirror_mode": {
    "name": "ipython",
    "version": 3
   },
   "file_extension": ".py",
   "mimetype": "text/x-python",
   "name": "python",
   "nbconvert_exporter": "python",
   "pygments_lexer": "ipython3",
   "version": "3.13.3"
  }
 },
 "nbformat": 4,
 "nbformat_minor": 2
}
